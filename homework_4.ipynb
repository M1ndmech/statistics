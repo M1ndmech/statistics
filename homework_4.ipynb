{
 "cells": [
  {
   "cell_type": "markdown",
   "id": "1ed23716",
   "metadata": {},
   "source": [
    "#### Теория вероятностей и математическая статистика\n",
    "\n",
    "## Домашнее задание 4"
   ]
  },
  {
   "cell_type": "code",
   "execution_count": 30,
   "id": "2e654c8b",
   "metadata": {},
   "outputs": [],
   "source": [
    "import pandas as pd\n",
    "import numpy as np\n",
    "import scipy.stats as st"
   ]
  },
  {
   "cell_type": "markdown",
   "id": "74690394",
   "metadata": {},
   "source": [
    "* сочетания - *combinations*\n",
    "* перестановки - *arrangements*\n",
    "* перемещения - *permutations*"
   ]
  },
  {
   "cell_type": "code",
   "execution_count": 31,
   "id": "26d2d33b",
   "metadata": {},
   "outputs": [],
   "source": [
    "def combinations (n, k):\n",
    "    return np.math.factorial(n) // (np.math.factorial(k) * np.math.factorial(n - k))\n",
    "\n",
    "def arrangements (n, k):\n",
    "    return np.math.factorial(n) // np.math.factorial(n - k)\n",
    "\n",
    "def permutations (n):\n",
    "    return np.math.factorial(n)\n",
    "\n",
    "def bernulli (n, probability, target):\n",
    "    return combinations (n, target) * probability**target * (1 - probability)**(n - target)\n",
    "\n",
    "def poisson (n, probability, target):\n",
    "    return ((n * probability)**target / np.math.factorial(target)) * np.math.e**(-(n * probability))"
   ]
  },
  {
   "cell_type": "markdown",
   "id": "545fbe9c",
   "metadata": {},
   "source": [
    "1. Случайная непрерывная величина A имеет равномерное распределение на промежутке (200, 800]. Найдите ее среднее значение и дисперсию."
   ]
  },
  {
   "cell_type": "code",
   "execution_count": 32,
   "id": "c6f1ede9",
   "metadata": {},
   "outputs": [
    {
     "name": "stdout",
     "output_type": "stream",
     "text": [
      "Среднее значение - 500.0, дисперсия - 30000.0\n"
     ]
    }
   ],
   "source": [
    "a1 = 200\n",
    "b1 = 800\n",
    "MX1 = (a1 + b1)/2\n",
    "DX1 = (b1 - a1)**2/12\n",
    "print(f'Среднее значение - {MX1}, дисперсия - {DX1}')"
   ]
  },
  {
   "cell_type": "markdown",
   "id": "0265bb01",
   "metadata": {},
   "source": [
    "2. О случайной непрерывной равномерно распределенной величине B известно, что ее дисперсия равна 0.2. Можно ли найти правую границу величины B и ее среднее значение зная, что левая граница равна 0.5? Если да, найдите ее."
   ]
  },
  {
   "cell_type": "code",
   "execution_count": 33,
   "id": "fb6ec514",
   "metadata": {},
   "outputs": [
    {
     "name": "stdout",
     "output_type": "stream",
     "text": [
      "Правая граница - 2.0492\n"
     ]
    }
   ],
   "source": [
    "RB = 0.5 + np.sqrt(12 * 0.2)\n",
    "print(f'Правая граница - {RB :.5}')"
   ]
  },
  {
   "cell_type": "markdown",
   "id": "f8970983",
   "metadata": {},
   "source": [
    "3. Непрерывная случайная величина X распределена нормально и задана плотностью распределения f(x) = (1 / (4 * sqrt(2pi))) * exp((-(x+2)**2) / 32). Найдите:\n",
    "\n",
    "* а) M(X)\n",
    "* б) D(X)\n",
    "* в) std(X) (среднее квадратичное отклонение)"
   ]
  },
  {
   "cell_type": "markdown",
   "id": "52edaa9f",
   "metadata": {},
   "source": [
    "Формула плотности нормального распределения: \n",
    "## $$ f(x) = {\\frac{1}{\\sigma \\sqrt{2 \\pi}} e ^ {- \\frac{(x - a)^2}{2 \\sigma^2}}}$$ "
   ]
  },
  {
   "cell_type": "markdown",
   "id": "b7dbb6d2",
   "metadata": {},
   "source": [
    "Заданная формула:\n",
    "## $$ f(x) = {\\frac{1}{4 \\sqrt{2 \\pi}} e ^ {- \\frac{(x + 2)^2}{2 * 4^2}}}$$ "
   ]
  },
  {
   "cell_type": "code",
   "execution_count": 34,
   "id": "2fa75448",
   "metadata": {},
   "outputs": [
    {
     "name": "stdout",
     "output_type": "stream",
     "text": [
      "M(X) = -2;\n",
      "stdX = σ = 4;\n",
      "D(X) = σ^2 = 16\n"
     ]
    }
   ],
   "source": [
    "MX3 = -2\n",
    "stdX3 = 4\n",
    "DX3 = stdX**2\n",
    "print(f'M(X) = {MX3};\\nstdX = \\u03C3 = {stdX3};\\nD(X) = \\u03C3^2 = {DX3}')"
   ]
  },
  {
   "cell_type": "markdown",
   "id": "b1797385",
   "metadata": {},
   "source": [
    "4. Рост взрослого населения города X имеет нормальное распределение.\n",
    "Причем, средний рост равен 174 см, а среднее квадратичное отклонение равно 8 см.\n",
    "\n",
    "Какова вероятность того, что случайным образом выбранный взрослый человек имеет рост:\n",
    "* a) больше 182 см\n",
    "* b) больше 190 см\n",
    "* c) от 166 см до 190 см\n",
    "* d) от 166 см до 182 см\n",
    "* e) от 158 см до 190 см\n",
    "* f) не выше 150 см или не ниже 190 см\n",
    "* g) не выше 150 см или не ниже 198 см\n",
    "* h) ниже 166 см.\n",
    "\n",
    "Z = (X - 174)/8 (если по таблице). Заменим на расчет с помощью scipy.stats.norm.cdf"
   ]
  },
  {
   "cell_type": "code",
   "execution_count": 35,
   "id": "8e158db6",
   "metadata": {
    "scrolled": true
   },
   "outputs": [],
   "source": [
    "height = st.norm(loc = 174, scale = 8)"
   ]
  },
  {
   "cell_type": "code",
   "execution_count": 65,
   "id": "888f4c48",
   "metadata": {},
   "outputs": [],
   "source": [
    "task4_a = 1 - height.cdf(182)\n",
    "task4_b = 1 - height.cdf(190)\n",
    "task4_c = height.cdf(190) - height.cdf(166)\n",
    "task4_d = height.cdf(182) - height.cdf(166)\n",
    "task4_e = height.cdf(190) - height.cdf(158)\n",
    "task4_f = height.cdf(150) + task4_b\n",
    "task4_g = height.cdf(150) + 1 - height.cdf(198)\n",
    "task4_h = height.cdf(166)"
   ]
  },
  {
   "cell_type": "code",
   "execution_count": 67,
   "id": "c57174ee",
   "metadata": {},
   "outputs": [
    {
     "name": "stdout",
     "output_type": "stream",
     "text": [
      "Вероятность события a - 15.866%\n",
      "Вероятность события b - 2.275%\n",
      "Вероятность события c - 81.859%\n",
      "Вероятность события d - 68.269%\n",
      "Вероятность события e - 95.450%\n",
      "Вероятность события f - 2.410%\n",
      "Вероятность события g - 0.270%\n",
      "Вероятность события h - 15.866%\n"
     ]
    }
   ],
   "source": [
    "print(f'''Вероятность события a - {task4_a :.3%}\n",
    "Вероятность события b - {task4_b :.3%}\n",
    "Вероятность события c - {task4_c :.3%}\n",
    "Вероятность события d - {task4_d :.3%}\n",
    "Вероятность события e - {task4_e :.3%}\n",
    "Вероятность события f - {task4_f :.3%}\n",
    "Вероятность события g - {task4_g :.3%}\n",
    "Вероятность события h - {task4_h :.3%}''')"
   ]
  },
  {
   "cell_type": "markdown",
   "id": "b8088d5e",
   "metadata": {},
   "source": [
    "5. На сколько сигм (средних квадратичных отклонений) отклоняется рост человека, равный 190 см, от математического ожидания роста в популяции, в которой M(X) = 178 см и D(X) = 25 кв.см?"
   ]
  },
  {
   "cell_type": "code",
   "execution_count": 78,
   "id": "e26585d4",
   "metadata": {},
   "outputs": [
    {
     "name": "stdout",
     "output_type": "stream",
     "text": [
      "Отклонение = 2.4σ\n"
     ]
    }
   ],
   "source": [
    "task5_delta = (190 - 178) / np.sqrt(25)\n",
    "print(f'Отклонение = {task5_delta}\\u03C3')"
   ]
  }
 ],
 "metadata": {
  "kernelspec": {
   "display_name": "Python 3 (ipykernel)",
   "language": "python",
   "name": "python3"
  },
  "language_info": {
   "codemirror_mode": {
    "name": "ipython",
    "version": 3
   },
   "file_extension": ".py",
   "mimetype": "text/x-python",
   "name": "python",
   "nbconvert_exporter": "python",
   "pygments_lexer": "ipython3",
   "version": "3.11.1"
  }
 },
 "nbformat": 4,
 "nbformat_minor": 5
}
