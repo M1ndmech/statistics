{
 "cells": [
  {
   "cell_type": "markdown",
   "id": "1ed23716",
   "metadata": {},
   "source": [
    "###### Теория вероятностей и математическая статистика\n",
    "\n",
    "## Домашнее задание 9"
   ]
  },
  {
   "cell_type": "code",
   "execution_count": 1,
   "id": "2e654c8b",
   "metadata": {},
   "outputs": [],
   "source": [
    "import pandas as pd\n",
    "import numpy as np\n",
    "import scipy.stats as st"
   ]
  },
  {
   "cell_type": "markdown",
   "id": "74690394",
   "metadata": {},
   "source": [
    "* сочетания - *combinations*\n",
    "* перестановки - *arrangements*\n",
    "* перемещения - *permutations*"
   ]
  },
  {
   "cell_type": "code",
   "execution_count": 2,
   "id": "26d2d33b",
   "metadata": {},
   "outputs": [],
   "source": [
    "def combinations (n, k):\n",
    "    return np.math.factorial(n) // (np.math.factorial(k) * np.math.factorial(n - k))\n",
    "\n",
    "def arrangements (n, k):\n",
    "    return np.math.factorial(n) // np.math.factorial(n - k)\n",
    "\n",
    "def permutations (n):\n",
    "    return np.math.factorial(n)\n",
    "\n",
    "def bernulli (n, probability, target):\n",
    "    return combinations (n, target) * probability**target * (1 - probability)**(n - target)\n",
    "\n",
    "def poisson (n, probability, target):\n",
    "    return ((n * probability)**target / np.math.factorial(target)) * np.math.e**(-(n * probability))\n",
    "\n",
    "def unbiased_variance (data: pd.Series(dtype='float64')):\n",
    "    avg = data.sum() / data.count ()\n",
    "    unbiased_variance = ((data - avg) ** 2).sum() / (data.count()-1)"
   ]
  },
  {
   "cell_type": "markdown",
   "id": "e4e79f1d",
   "metadata": {},
   "source": [
    "1. Даны значения величины заработной платы заемщиков банка (zp) и значения их поведенческого кредитного скоринга (ks): zp = [35, 45, 190, 200, 40, 70, 54, 150, 120, 110], ks = [401, 574, 874, 919, 459, 739, 653, 902, 746, 832]. \n",
    "\n",
    "Используя математические операции, посчитать коэффициенты линейной регрессии, приняв за X заработную плату (то есть, zp - признак), а за y - значения скорингового балла (то есть, ks - целевая переменная). Произвести расчет как с использованием intercept, так и без."
   ]
  },
  {
   "cell_type": "code",
   "execution_count": 3,
   "id": "dc0208eb",
   "metadata": {},
   "outputs": [],
   "source": [
    "zp = np.array([35, 45, 190, 200, 40, 70, 54, 150, 120, 110])\n",
    "ks = np.array([401, 574, 874, 919, 459, 739, 653, 902, 746, 832])"
   ]
  },
  {
   "cell_type": "markdown",
   "id": "83c91c6b",
   "metadata": {},
   "source": [
    "$$b_1 = \\frac{\\overline{yx} - \\overline{y} \\cdot {\\overline{x}}}{\\overline{x^2} - (\\overline{x})^2}, \\: b_0 = \\overline{y} - b_1 \\cdot {\\overline{x}}.$$"
   ]
  },
  {
   "cell_type": "code",
   "execution_count": 4,
   "id": "d75f52d5",
   "metadata": {},
   "outputs": [
    {
     "data": {
      "text/plain": [
       "2.620538882402765"
      ]
     },
     "execution_count": 4,
     "metadata": {},
     "output_type": "execute_result"
    }
   ],
   "source": [
    "b1 = ((zp * ks).mean() - zp.mean() * ks.mean()) / ((zp ** 2).mean() - (zp.mean() ** 2))\n",
    "b1"
   ]
  },
  {
   "cell_type": "code",
   "execution_count": 6,
   "id": "c20eb769",
   "metadata": {},
   "outputs": [
    {
     "data": {
      "text/plain": [
       "444.1773573243596"
      ]
     },
     "execution_count": 6,
     "metadata": {},
     "output_type": "execute_result"
    }
   ],
   "source": [
    "a1 = ks.mean() - b1 * zp.mean()\n",
    "a1"
   ]
  },
  {
   "cell_type": "markdown",
   "id": "ef11c62d",
   "metadata": {},
   "source": [
    "$$b = (X^\\top X)^{-1} X^\\top y.$$"
   ]
  },
  {
   "cell_type": "code",
   "execution_count": 7,
   "id": "f2de1e72",
   "metadata": {},
   "outputs": [
    {
     "data": {
      "text/plain": [
       "array([[ 35],\n",
       "       [ 45],\n",
       "       [190],\n",
       "       [200],\n",
       "       [ 40],\n",
       "       [ 70],\n",
       "       [ 54],\n",
       "       [150],\n",
       "       [120],\n",
       "       [110]])"
      ]
     },
     "execution_count": 7,
     "metadata": {},
     "output_type": "execute_result"
    }
   ],
   "source": [
    "zp1 = zp.reshape(-1, 1)\n",
    "zp1"
   ]
  },
  {
   "cell_type": "code",
   "execution_count": 8,
   "id": "cc9820ab",
   "metadata": {},
   "outputs": [],
   "source": [
    "ones = np.ones((zp1.shape[0], 1))\n",
    "zp1 = np.hstack((ones, zp1))"
   ]
  },
  {
   "cell_type": "code",
   "execution_count": 9,
   "id": "11907903",
   "metadata": {
    "scrolled": true
   },
   "outputs": [
    {
     "data": {
      "text/plain": [
       "array([[  1.,  35.],\n",
       "       [  1.,  45.],\n",
       "       [  1., 190.],\n",
       "       [  1., 200.],\n",
       "       [  1.,  40.],\n",
       "       [  1.,  70.],\n",
       "       [  1.,  54.],\n",
       "       [  1., 150.],\n",
       "       [  1., 120.],\n",
       "       [  1., 110.]])"
      ]
     },
     "execution_count": 9,
     "metadata": {},
     "output_type": "execute_result"
    }
   ],
   "source": [
    "zp1"
   ]
  },
  {
   "cell_type": "code",
   "execution_count": 15,
   "id": "9825e588",
   "metadata": {},
   "outputs": [
    {
     "data": {
      "text/plain": [
       "array([[401],\n",
       "       [574],\n",
       "       [874],\n",
       "       [919],\n",
       "       [459],\n",
       "       [739],\n",
       "       [653],\n",
       "       [902],\n",
       "       [746],\n",
       "       [832]])"
      ]
     },
     "execution_count": 15,
     "metadata": {},
     "output_type": "execute_result"
    }
   ],
   "source": [
    "ks1 = ks.reshape(-1, 1)\n",
    "ks1"
   ]
  },
  {
   "cell_type": "code",
   "execution_count": 17,
   "id": "027cb5fb",
   "metadata": {},
   "outputs": [
    {
     "data": {
      "text/plain": [
       "349464.00000000023"
      ]
     },
     "execution_count": 17,
     "metadata": {},
     "output_type": "execute_result"
    }
   ],
   "source": [
    "XTX = zp1.T.dot(zp1)\n",
    "\n",
    "np.linalg.det(XTX)"
   ]
  },
  {
   "cell_type": "code",
   "execution_count": 18,
   "id": "4bc04f0a",
   "metadata": {},
   "outputs": [
    {
     "data": {
      "text/plain": [
       "array([[444.17735732],\n",
       "       [  2.62053888]])"
      ]
     },
     "execution_count": 18,
     "metadata": {},
     "output_type": "execute_result"
    }
   ],
   "source": [
    "XTX_inv = np.linalg.inv(XTX)\n",
    "\n",
    "b = XTX_inv.dot(zp1.T).dot(ks1)\n",
    "\n",
    "b"
   ]
  },
  {
   "cell_type": "markdown",
   "id": "62a813db",
   "metadata": {},
   "source": [
    "Коэффициенты совпадают с вычисленными с помощью линейной регрессии."
   ]
  },
  {
   "cell_type": "code",
   "execution_count": 20,
   "id": "6a15d1cc",
   "metadata": {},
   "outputs": [
    {
     "data": {
      "text/plain": [
       "array([[  1.,   1.,   1.,   1.,   1.,   1.,   1.,   1.,   1.,   1.],\n",
       "       [ 35.,  45., 190., 200.,  40.,  70.,  54., 150., 120., 110.]])"
      ]
     },
     "execution_count": 20,
     "metadata": {},
     "output_type": "execute_result"
    }
   ],
   "source": [
    "zp2 = np.vstack([np.ones((1, 10)), zp])\n",
    "zp2"
   ]
  },
  {
   "cell_type": "code",
   "execution_count": 22,
   "id": "c6d018f4",
   "metadata": {},
   "outputs": [
    {
     "data": {
      "text/plain": [
       "array([444.17735732,   2.62053888])"
      ]
     },
     "execution_count": 22,
     "metadata": {},
     "output_type": "execute_result"
    }
   ],
   "source": [
    "np.dot(np.dot(np.linalg.inv(np.dot(zp2, zp2.T)), zp2), ks.T)"
   ]
  },
  {
   "cell_type": "markdown",
   "id": "ff4c769d",
   "metadata": {},
   "source": [
    "2. Посчитать коэффициент линейной регрессии при заработной плате (zp), используя градиентный спуск (без intercept)."
   ]
  },
  {
   "cell_type": "code",
   "execution_count": 142,
   "id": "ec666d4f",
   "metadata": {},
   "outputs": [],
   "source": [
    "zp_t2 = np.array([35, 45, 190, 200, 40, 70, 54, 150, 120, 110])\n",
    "ks_t2 = np.array([401, 574, 874, 919, 459, 739, 653, 902, 746, 832])"
   ]
  },
  {
   "cell_type": "code",
   "execution_count": 149,
   "id": "0cfd6cd4",
   "metadata": {},
   "outputs": [],
   "source": [
    "alpha = 1e-6\n",
    "w1 = 0.1"
   ]
  },
  {
   "cell_type": "code",
   "execution_count": 150,
   "id": "6ee8e507",
   "metadata": {},
   "outputs": [],
   "source": [
    "def mse(w1, y=ks_t2, x=zp_t2, n=10):\n",
    "    return np.sum((w1 * x - y) ** 2) / n\n",
    "mse_min = mse(b1, zp, ks)\n",
    "i_min = 1\n",
    "b_min = b\n",
    "iteration_1 = 3000"
   ]
  },
  {
   "cell_type": "code",
   "execution_count": 151,
   "id": "e559155b",
   "metadata": {},
   "outputs": [
    {
     "name": "stdout",
     "output_type": "stream",
     "text": [
      "iteration: 0, w1 : 0.25952808000000005, mse: 493237.7212546963\n",
      "iteration: 100, w1 : 5.54537842245223, mse: 58151.31823171113\n",
      "iteration: 200, w1 : 5.868748638669329, mse: 56522.97550129376\n",
      "iteration: 300, w1 : 5.888531320728348, mse: 56516.88130936019\n",
      "iteration: 400, w1 : 5.8897415574471985, mse: 56516.85850140053\n",
      "iteration: 500, w1 : 5.889815595583751, mse: 56516.858416040064\n",
      "iteration: 600, w1 : 5.889820124983314, mse: 56516.85841572062\n",
      "iteration: 700, w1 : 5.889820402076462, mse: 56516.85841571941\n",
      "iteration: 800, w1 : 5.88982041902807, mse: 56516.8584157194\n",
      "iteration: 900, w1 : 5.889820420065112, mse: 56516.85841571941\n",
      "iteration: 1000, w1 : 5.8898204201285544, mse: 56516.85841571941\n",
      "iteration: 1100, w1 : 5.889820420132437, mse: 56516.85841571943\n",
      "iteration: 1200, w1 : 5.889820420132673, mse: 56516.85841571943\n",
      "iteration: 1300, w1 : 5.889820420132673, mse: 56516.85841571943\n",
      "iteration: 1400, w1 : 5.889820420132673, mse: 56516.85841571943\n",
      "iteration: 1500, w1 : 5.889820420132673, mse: 56516.85841571943\n",
      "iteration: 1600, w1 : 5.889820420132673, mse: 56516.85841571943\n",
      "iteration: 1700, w1 : 5.889820420132673, mse: 56516.85841571943\n",
      "iteration: 1800, w1 : 5.889820420132673, mse: 56516.85841571943\n",
      "iteration: 1900, w1 : 5.889820420132673, mse: 56516.85841571943\n",
      "iteration: 2000, w1 : 5.889820420132673, mse: 56516.85841571943\n",
      "iteration: 2100, w1 : 5.889820420132673, mse: 56516.85841571943\n",
      "iteration: 2200, w1 : 5.889820420132673, mse: 56516.85841571943\n",
      "iteration: 2300, w1 : 5.889820420132673, mse: 56516.85841571943\n",
      "iteration: 2400, w1 : 5.889820420132673, mse: 56516.85841571943\n",
      "iteration: 2500, w1 : 5.889820420132673, mse: 56516.85841571943\n",
      "iteration: 2600, w1 : 5.889820420132673, mse: 56516.85841571943\n",
      "iteration: 2700, w1 : 5.889820420132673, mse: 56516.85841571943\n",
      "iteration: 2800, w1 : 5.889820420132673, mse: 56516.85841571943\n",
      "iteration: 2900, w1 : 5.889820420132673, mse: 56516.85841571943\n"
     ]
    }
   ],
   "source": [
    "for i in range(iteration_1):\n",
    "    fp = (1 / 10) * np.sum(2 * (w1 * zp - ks) * zp)\n",
    "    w1 -= alpha * fp\n",
    "    if i % 100 == 0:\n",
    "        print(f'iteration: {i}, w1 : {w1}, mse: {mse_(w1) }')"
   ]
  },
  {
   "cell_type": "markdown",
   "id": "4ca741da",
   "metadata": {},
   "source": [
    "3. Произвести вычисления как в пункте 2, но с вычислением intercept. Учесть, что изменение коэффициентов должно производиться на каждом шаге одновременно (то есть изменение одного коэффициента не должно влиять на изменение другого во время одной итерации)."
   ]
  },
  {
   "cell_type": "code",
   "execution_count": 85,
   "id": "3ba7ea32",
   "metadata": {},
   "outputs": [],
   "source": [
    "def mse(b0, b1, x=zp, y=ks):\n",
    "    return np.sum(((b0 + b1 * x) - y)**2) / len(x)"
   ]
  },
  {
   "cell_type": "code",
   "execution_count": 86,
   "id": "9625009f",
   "metadata": {},
   "outputs": [],
   "source": [
    "def mse_b0(b0, b1, x = zp, y = ks):\n",
    "    return 2 * np.sum((b0 + b1 * x) -y) / len(x)"
   ]
  },
  {
   "cell_type": "code",
   "execution_count": 87,
   "id": "84337394",
   "metadata": {},
   "outputs": [],
   "source": [
    "def mse_b1(b0, b1, x = zp, y = ks):\n",
    "    return 2 * np.sum(((b0 + b1 * x) - y) * x) / len(x)"
   ]
  },
  {
   "cell_type": "code",
   "execution_count": 83,
   "id": "b1c8e8a1",
   "metadata": {},
   "outputs": [],
   "source": [
    "alpha = 5e-05\n",
    "b1 = 0.1\n",
    "b0 = 0.1\n",
    "mse_min = mse(b0, b1)\n",
    "i_min = 1\n",
    "b1_min = b1\n",
    "b0_min = b0"
   ]
  },
  {
   "cell_type": "code",
   "execution_count": 88,
   "id": "402f37a2",
   "metadata": {},
   "outputs": [
    {
     "name": "stdout",
     "output_type": "stream",
     "text": [
      "Итерация 0: b0 = 0.169966, b1 = 8.07468054476, mse = 122318.06397097567\n",
      "Итерация 50000: b0 = 319.27767648420047, b1 = 3.5398324356503275, mse = 10427.569111705801\n",
      "Итерация 100000: b0 = 409.0442373734796, b1 = 2.879127619051743, mse = 6783.521961452364\n",
      "Итерация 150000: b0 = 434.29473705519484, b1 = 2.693277491833349, mse = 6495.188684804794\n",
      "Итерация 200000: b0 = 441.3974680483413, b1 = 2.6409995775222037, mse = 6472.374468908443\n",
      "Итерация 250000: b0 = 443.39540029510493, b1 = 2.62629428586797, mse = 6470.569306309746\n",
      "Итерация 300000: b0 = 443.95740007610897, b1 = 2.622157823932053, mse = 6470.426473787141\n",
      "Итерация 350000: b0 = 444.1154853937451, b1 = 2.6209942756156086, mse = 6470.415172240385\n",
      "Итерация 400000: b0 = 444.159953325044, b1 = 2.6206669802831115, mse = 6470.414278011555\n",
      "Итерация 450000: b0 = 444.1724617410292, b1 = 2.6205749151465225, mse = 6470.414207256183\n",
      "Итерация 500000: b0 = 444.1759802422447, b1 = 2.6205490180788695, mse = 6470.414201657699\n",
      "Итерация 520164: b0 = 444.17653163778414, b1 = 2.62054495966686, mse = 6470.414201349592,\n",
      "Достигнут минимум.\n",
      "b0 = 444.17653163778414 \n",
      "b1 = 2.62054495966686\n"
     ]
    }
   ],
   "source": [
    "for i in range(1000000):\n",
    "    b0 -= alpha * mse_b0(b0, b1)\n",
    "    b1 -= alpha * mse_b1(b0, b1)\n",
    "    if i % 50000 == 0:\n",
    "        print(f'Итерация {i}: b0 = {b0}, b1 = {b1}, mse = {mse(b0, b1)}')\n",
    "    if _mse(b0, b1) > mse_min:\n",
    "        print(\n",
    "            f'Итерация {i_min}: b0 = {b0_min}, b1 = {b1_min}, mse = {mse_min},\\nДостигнут минимум.')\n",
    "        break\n",
    "    else:\n",
    "        mse_min = mse(b0, b1)\n",
    "        i_min = i\n",
    "        b1_min = b1\n",
    "        b0_min = b0\n",
    "print(f'b0 = {b0_min} \\nb1 = {b1_min}')"
   ]
  }
 ],
 "metadata": {
  "kernelspec": {
   "display_name": "Python 3 (ipykernel)",
   "language": "python",
   "name": "python3"
  },
  "language_info": {
   "codemirror_mode": {
    "name": "ipython",
    "version": 3
   },
   "file_extension": ".py",
   "mimetype": "text/x-python",
   "name": "python",
   "nbconvert_exporter": "python",
   "pygments_lexer": "ipython3",
   "version": "3.11.1"
  }
 },
 "nbformat": 4,
 "nbformat_minor": 5
}
