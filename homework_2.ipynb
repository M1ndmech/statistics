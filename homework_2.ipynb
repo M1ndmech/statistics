{
 "cells": [
  {
   "cell_type": "markdown",
   "id": "1ed23716",
   "metadata": {},
   "source": [
    "## Теория вероятностей и математическая статистика\n",
    "\n",
    "## Домашнее задание 2"
   ]
  },
  {
   "cell_type": "code",
   "execution_count": 8,
   "id": "2e654c8b",
   "metadata": {},
   "outputs": [],
   "source": [
    "import pandas as pd\n",
    "import numpy as np"
   ]
  },
  {
   "cell_type": "markdown",
   "id": "74690394",
   "metadata": {},
   "source": [
    "* сочетания - *combinations*\n",
    "* перестановки - *arrangements*\n",
    "* перемещения - *permutations*"
   ]
  },
  {
   "cell_type": "code",
   "execution_count": 9,
   "id": "26d2d33b",
   "metadata": {},
   "outputs": [],
   "source": [
    "def combinations (n, k):\n",
    "    return np.math.factorial(n) // (np.math.factorial(k) * np.math.factorial(n - k))\n",
    "\n",
    "def arrangements (n, k):\n",
    "    return np.math.factorial(n) // np.math.factorial(n - k)\n",
    "\n",
    "def permutations (n):\n",
    "    return np.math.factorial(n)"
   ]
  },
  {
   "cell_type": "code",
   "execution_count": 27,
   "id": "71a7a3a4",
   "metadata": {},
   "outputs": [],
   "source": [
    "def bernulli (n, probability, target):\n",
    "    return combinations (n, target) * probability**target * (1 - probability)**(n - target)\n",
    "\n",
    "def poisson (n, probability, target):\n",
    "    return ((n * probability)**target / np.math.factorial(target)) * np.math.e**(-(n * probability))"
   ]
  },
  {
   "cell_type": "markdown",
   "id": "545fbe9c",
   "metadata": {},
   "source": [
    "1. Вероятность того, что стрелок попадет в мишень, выстрелив один раз, равна 0.8. Стрелок выстрелил 100 раз. Найдите вероятность того, что стрелок попадет в цель ровно 85 раз."
   ]
  },
  {
   "cell_type": "code",
   "execution_count": 37,
   "id": "c6f1ede9",
   "metadata": {},
   "outputs": [
    {
     "name": "stdout",
     "output_type": "stream",
     "text": [
      "Вероятность попасть 85 раз: 0.04806\n"
     ]
    }
   ],
   "source": [
    "task_1 = bernulli (100, 0.8, 85)\n",
    "print(f'Вероятность попасть 85 раз: {task_1 :.5f}')"
   ]
  },
  {
   "cell_type": "markdown",
   "id": "0265bb01",
   "metadata": {},
   "source": [
    "2. Вероятность того, что лампочка перегорит в течение первого дня эксплуатации, равна 0.0004. В жилом комплексе после ремонта в один день включили 5000 новых лампочек. Какова вероятность, что ни одна из них не перегорит в первый день? Какова вероятность, что перегорят ровно две?"
   ]
  },
  {
   "cell_type": "code",
   "execution_count": 41,
   "id": "8d893310",
   "metadata": {
    "scrolled": true
   },
   "outputs": [
    {
     "name": "stdout",
     "output_type": "stream",
     "text": [
      "Вероятность перегорания 0 лампочек: 13.534%\n"
     ]
    }
   ],
   "source": [
    "task_2_1 = poisson(5000, 0.0004, 0)\n",
    "print(f'Вероятность перегорания 0 лампочек: {task_2_1 :.3%}')"
   ]
  },
  {
   "cell_type": "code",
   "execution_count": 42,
   "id": "99814fe2",
   "metadata": {},
   "outputs": [
    {
     "name": "stdout",
     "output_type": "stream",
     "text": [
      "Вероятность перегорания 2 лампочек: 27.067%\n"
     ]
    }
   ],
   "source": [
    "task_2_2 = poisson(5000, 0.0004, 2)\n",
    "print(f'Вероятность перегорания 2 лампочек: {task_2_2 :.3%}')"
   ]
  },
  {
   "cell_type": "markdown",
   "id": "f8970983",
   "metadata": {},
   "source": [
    "3. Монету подбросили 144 раза. Какова вероятность, что орел выпадет ровно 70 раз?"
   ]
  },
  {
   "cell_type": "code",
   "execution_count": 44,
   "id": "ec082cf1",
   "metadata": {},
   "outputs": [
    {
     "name": "stdout",
     "output_type": "stream",
     "text": [
      "Вероятность выпадания 70 орлов: 6.281%\n"
     ]
    }
   ],
   "source": [
    "task_3 = bernulli (144, 0.5, 70)\n",
    "print(f'Вероятность выпадания 70 орлов: {task_3 :.3%}')"
   ]
  },
  {
   "cell_type": "markdown",
   "id": "b1797385",
   "metadata": {},
   "source": [
    "4. В первом ящике находится 10 мячей, из которых 7 - белые. Во втором ящике - 11 мячей, из которых 9 белых. Из каждого ящика вытаскивают случайным образом по два мяча. Какова вероятность того, что все мячи белые? Какова вероятность того, что ровно два мяча белые? Какова вероятность того, что хотя бы один мяч белый?"
   ]
  },
  {
   "cell_type": "code",
   "execution_count": 52,
   "id": "8e158db6",
   "metadata": {},
   "outputs": [
    {
     "name": "stdout",
     "output_type": "stream",
     "text": [
      "Вероятность вытащить все белые мячи: 30.545%\n"
     ]
    }
   ],
   "source": [
    "balls_1 = combinations (7, 2)/combinations(10, 2)\n",
    "balls_2 = combinations (9, 2)/combinations(11, 2)\n",
    "print(f'Вероятность вытащить все белые мячи: {balls_1*balls_2 :.3%}')"
   ]
  },
  {
   "cell_type": "markdown",
   "id": "edcccf4d",
   "metadata": {},
   "source": [
    "Вероятность вытащить 2 белых мяча: (2б1 * 2ч2) + (2б2 * 2ч1) + (1б1 * 1ч1 * 1б2 * 1ч2)"
   ]
  },
  {
   "cell_type": "code",
   "execution_count": 63,
   "id": "2d663653",
   "metadata": {},
   "outputs": [
    {
     "name": "stdout",
     "output_type": "stream",
     "text": [
      "Вероятность вытащить 2 белых мяча: 20.485%\n"
     ]
    }
   ],
   "source": [
    "prob_1 = (combinations (7, 2) / combinations(10, 2)) * (combinations (2, 2) / combinations(11, 2))\n",
    "prob_2 = (combinations (3, 2) / combinations(10, 2)) * (combinations (9, 2) / combinations(11, 2))\n",
    "prob_3 = ((combinations (3, 1) * combinations (7, 1)) / combinations (10,2)) * ((combinations(2, 1)*combinations (9, 1))/combinations (11, 2))\n",
    "print(f'Вероятность вытащить 2 белых мяча: {prob_1 + prob_2 + prob_3 :.3%}')"
   ]
  },
  {
   "cell_type": "markdown",
   "id": "389c9d1b",
   "metadata": {},
   "source": [
    "Все белые = 1 - вероятность того, что все черные"
   ]
  },
  {
   "cell_type": "code",
   "execution_count": 72,
   "id": "0c70e2bd",
   "metadata": {},
   "outputs": [
    {
     "name": "stdout",
     "output_type": "stream",
     "text": [
      "Вероятность вытащить хотя бы один белый мяч: 99.879%\n"
     ]
    }
   ],
   "source": [
    "prob_4 = (combinations (3, 2)/ combinations (10,2))*(combinations(2, 2)/combinations (11, 2))\n",
    "print(f'Вероятность вытащить хотя бы один белый мяч: {1 - prob_4 :.3%}')"
   ]
  }
 ],
 "metadata": {
  "kernelspec": {
   "display_name": "Python 3 (ipykernel)",
   "language": "python",
   "name": "python3"
  },
  "language_info": {
   "codemirror_mode": {
    "name": "ipython",
    "version": 3
   },
   "file_extension": ".py",
   "mimetype": "text/x-python",
   "name": "python",
   "nbconvert_exporter": "python",
   "pygments_lexer": "ipython3",
   "version": "3.11.1"
  }
 },
 "nbformat": 4,
 "nbformat_minor": 5
}
