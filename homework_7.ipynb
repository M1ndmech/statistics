{
 "cells": [
  {
   "cell_type": "markdown",
   "id": "1ed23716",
   "metadata": {},
   "source": [
    "###### Теория вероятностей и математическая статистика\n",
    "\n",
    "## Домашнее задание 7"
   ]
  },
  {
   "cell_type": "code",
   "execution_count": 2,
   "id": "2e654c8b",
   "metadata": {},
   "outputs": [],
   "source": [
    "import pandas as pd\n",
    "import numpy as np\n",
    "import scipy.stats as st"
   ]
  },
  {
   "cell_type": "markdown",
   "id": "74690394",
   "metadata": {},
   "source": [
    "* сочетания - *combinations*\n",
    "* перестановки - *arrangements*\n",
    "* перемещения - *permutations*"
   ]
  },
  {
   "cell_type": "code",
   "execution_count": 3,
   "id": "26d2d33b",
   "metadata": {},
   "outputs": [],
   "source": [
    "def combinations (n, k):\n",
    "    return np.math.factorial(n) // (np.math.factorial(k) * np.math.factorial(n - k))\n",
    "\n",
    "def arrangements (n, k):\n",
    "    return np.math.factorial(n) // np.math.factorial(n - k)\n",
    "\n",
    "def permutations (n):\n",
    "    return np.math.factorial(n)\n",
    "\n",
    "def bernulli (n, probability, target):\n",
    "    return combinations (n, target) * probability**target * (1 - probability)**(n - target)\n",
    "\n",
    "def poisson (n, probability, target):\n",
    "    return ((n * probability)**target / np.math.factorial(target)) * np.math.e**(-(n * probability))\n",
    "\n",
    "def unbiased_variance (data: pd.Series(dtype='float64')):\n",
    "    avg = data.sum() / data.count ()\n",
    "    unbiased_variance = ((data - avg) ** 2).sum() / (data.count()-1)"
   ]
  },
  {
   "cell_type": "markdown",
   "id": "c40141d9",
   "metadata": {},
   "source": [
    "$\n",
    "P \\left( \n",
    "\\overline{X} - t_{1 - \\alpha/2, \\: n - 1} \\cdot \\dfrac{S}{\\sqrt{n}} \n",
    "\\leq M(X) \\leq\n",
    "\\overline{X} + t_{1 - \\alpha/2, \\: n - 1} \\cdot \\dfrac{S}{\\sqrt{n}} \n",
    "\\right) = 1 - \\alpha.\n",
    "$"
   ]
  },
  {
   "cell_type": "markdown",
   "id": "efa1a998",
   "metadata": {},
   "source": [
    "### 1-4 задачи решать с помощью функций, 5ю вручную"
   ]
  },
  {
   "cell_type": "markdown",
   "id": "545fbe9c",
   "metadata": {},
   "source": [
    "Выбрать тест и проверить, есть  ли различия между выборками:\n",
    "\n",
    "1.  Даны две  независимые выборки. Не соблюдается условие нормальности\n",
    "\n",
    "x1  380,420, 290\n",
    "\n",
    "y1 140,360,200,900\n",
    "\n",
    "Сделайте вывод по результатам, полученным с помощью функции."
   ]
  },
  {
   "cell_type": "code",
   "execution_count": 4,
   "id": "5bd63fce",
   "metadata": {},
   "outputs": [],
   "source": [
    "x1 = np.array([380, 420, 290])\n",
    "y1 = np.array([140, 360, 200, 900])"
   ]
  },
  {
   "cell_type": "code",
   "execution_count": 7,
   "id": "48218b65",
   "metadata": {},
   "outputs": [
    {
     "data": {
      "text/plain": [
       "MannwhitneyuResult(statistic=8.0, pvalue=0.6285714285714286)"
      ]
     },
     "execution_count": 7,
     "metadata": {},
     "output_type": "execute_result"
    }
   ],
   "source": [
    "st.mannwhitneyu (x1, y1, alternative='two-sided')"
   ]
  },
  {
   "cell_type": "markdown",
   "id": "e4e79f1d",
   "metadata": {},
   "source": [
    "Выборки принадлежат к одной совокупности."
   ]
  },
  {
   "cell_type": "markdown",
   "id": "0265bb01",
   "metadata": {},
   "source": [
    "2. Исследовалось влияние препарата на уровень давления пациентов. Сначала измерялось давление до приема препарата, потом через 10 минут и через 30 минут. Есть ли статистически значимые различия?\n",
    "\n",
    "1е измерение до приема препарата: 150, 160, 165, 145, 155\n",
    "\n",
    "2е измерение через 10 минут: 140, 155, 150,  130, 135\n",
    "\n",
    "3е измерение через 30 минут: 130, 130, 120, 130, 125"
   ]
  },
  {
   "cell_type": "code",
   "execution_count": 10,
   "id": "707074ac",
   "metadata": {},
   "outputs": [],
   "source": [
    "test_1 = np.array([150, 160, 165, 145, 155])\n",
    "test_2 = np.array([140, 155, 150, 130, 135])\n",
    "test_3 = np.array([130, 130, 120, 130, 125])"
   ]
  },
  {
   "cell_type": "code",
   "execution_count": 11,
   "id": "2dc9c4b1",
   "metadata": {},
   "outputs": [
    {
     "data": {
      "text/plain": [
       "KruskalResult(statistic=10.213868613138692, pvalue=0.006054616097364561)"
      ]
     },
     "execution_count": 11,
     "metadata": {},
     "output_type": "execute_result"
    }
   ],
   "source": [
    "st.kruskal(test_1, test_2, test_3)"
   ]
  },
  {
   "cell_type": "markdown",
   "id": "5883a733",
   "metadata": {},
   "source": [
    "Прием препарата приводит к статистически значимым отличиям."
   ]
  },
  {
   "cell_type": "markdown",
   "id": "c47dbc2a",
   "metadata": {},
   "source": [
    "3. Сравните 1 и 2 е измерения, предполагая, что 3го измерения через 30 минут не было."
   ]
  },
  {
   "cell_type": "code",
   "execution_count": 12,
   "id": "79cb9ed3",
   "metadata": {},
   "outputs": [
    {
     "data": {
      "text/plain": [
       "MannwhitneyuResult(statistic=21.0, pvalue=0.09269171612444642)"
      ]
     },
     "execution_count": 12,
     "metadata": {},
     "output_type": "execute_result"
    }
   ],
   "source": [
    "st.mannwhitneyu (test_1, test_2, alternative='two-sided')"
   ]
  },
  {
   "cell_type": "markdown",
   "id": "664842f2",
   "metadata": {},
   "source": [
    "При доверительном интервале в 5% статистически значимых отличий между группами нет."
   ]
  },
  {
   "cell_type": "markdown",
   "id": "b1797385",
   "metadata": {},
   "source": [
    "4) Даны 3 группы  учеников плавания.\n",
    "В 1 группе время на дистанцию 50 м составляют:\n",
    "56, 60, 62, 55, 71, 67, 59, 58, 64, 67\n",
    "\n",
    "Вторая группа : 57, 58, 69, 48, 72, 70, 68, 71, 50, 53\n",
    "Третья группа: 57, 67, 49, 48, 47, 55, 66, 51, 54"
   ]
  },
  {
   "cell_type": "code",
   "execution_count": 15,
   "id": "727dee73",
   "metadata": {},
   "outputs": [],
   "source": [
    "group_1 = np.array([56, 60, 62, 55, 71, 67, 59, 58, 64, 67])\n",
    "group_2 = np.array([57, 58, 69, 48, 72, 70, 68, 71, 50, 53])\n",
    "group_3  = np.array([57, 67, 49, 48, 47, 55, 66, 51, 54])"
   ]
  },
  {
   "cell_type": "code",
   "execution_count": 16,
   "id": "787ab2e3",
   "metadata": {
    "scrolled": true
   },
   "outputs": [
    {
     "data": {
      "text/plain": [
       "KruskalResult(statistic=5.465564058257224, pvalue=0.06503809985904942)"
      ]
     },
     "execution_count": 16,
     "metadata": {},
     "output_type": "execute_result"
    }
   ],
   "source": [
    "st.kruskal(group_1, group_2, group_3)"
   ]
  },
  {
   "cell_type": "markdown",
   "id": "71a41ee8",
   "metadata": {},
   "source": [
    "При доверительном интервале в 5% статистически значимых отличий между группами нет."
   ]
  },
  {
   "cell_type": "markdown",
   "id": "2ac41d03",
   "metadata": {},
   "source": [
    "5) Заявляется, что партия изготавливается со средним арифметическим 2,5 см. Проверить данную гипотезу, если известно, что размеры изделий подчинены нормальному закону распределения. Объем выборки 10, уровень статистической значимости 5%\n",
    "\n",
    "2.51, 2.35, 2.74, 2.56, 2.40, 2.36, 2.65, 2.7, 2.67, 2.34"
   ]
  },
  {
   "cell_type": "code",
   "execution_count": 18,
   "id": "337eaac6",
   "metadata": {},
   "outputs": [
    {
     "data": {
      "text/plain": [
       "0.563061366180296"
      ]
     },
     "execution_count": 18,
     "metadata": {},
     "output_type": "execute_result"
    }
   ],
   "source": [
    "items = np.array([2.51, 2.35, 2.74, 2.56, 2.40, 2.36, 2.65, 2.7, 2.67, 2.34])\n",
    "n = len(items)\n",
    "items_mean = items.mean()\n",
    "items_stdX = items.std(ddof = 1)\n",
    "t_fact = (items_mean - 2.5) / items_stdX * np.sqrt (10)\n",
    "t_fact"
   ]
  },
  {
   "cell_type": "code",
   "execution_count": 19,
   "id": "97d6273f",
   "metadata": {},
   "outputs": [
    {
     "data": {
      "text/plain": [
       "2.2621571627409915"
      ]
     },
     "execution_count": 19,
     "metadata": {},
     "output_type": "execute_result"
    }
   ],
   "source": [
    "t_table = st.t(n-1).ppf(1 - 0.05 / 2)\n",
    "t_table"
   ]
  },
  {
   "cell_type": "code",
   "execution_count": 27,
   "id": "fc503a04",
   "metadata": {},
   "outputs": [
    {
     "name": "stdout",
     "output_type": "stream",
     "text": [
      "Гипотеза принята\n"
     ]
    }
   ],
   "source": [
    "trusted_interval = (items_mean - t_table * items_stdX / np.sqrt(n), items_mean + t_table * items_stdX / np.sqrt(n))\n",
    "if 2.5 > trusted_interval[0] and 2.5 < trusted_interval[1]:\n",
    "    print ('Гипотеза принята')\n",
    "else:\n",
    "    print ('Гипотеза отвергнута')"
   ]
  },
  {
   "cell_type": "code",
   "execution_count": 26,
   "id": "744f067e",
   "metadata": {},
   "outputs": [
    {
     "data": {
      "text/plain": [
       "(2.4155071095954663, 2.640492890404533)"
      ]
     },
     "execution_count": 26,
     "metadata": {},
     "output_type": "execute_result"
    }
   ],
   "source": [
    "trusted_interval"
   ]
  }
 ],
 "metadata": {
  "kernelspec": {
   "display_name": "Python 3 (ipykernel)",
   "language": "python",
   "name": "python3"
  },
  "language_info": {
   "codemirror_mode": {
    "name": "ipython",
    "version": 3
   },
   "file_extension": ".py",
   "mimetype": "text/x-python",
   "name": "python",
   "nbconvert_exporter": "python",
   "pygments_lexer": "ipython3",
   "version": "3.11.1"
  }
 },
 "nbformat": 4,
 "nbformat_minor": 5
}
