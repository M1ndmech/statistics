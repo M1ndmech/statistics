{
 "cells": [
  {
   "cell_type": "markdown",
   "id": "1ed23716",
   "metadata": {},
   "source": [
    "###### Теория вероятностей и математическая статистика\n",
    "\n",
    "## Домашнее задание 10"
   ]
  },
  {
   "cell_type": "code",
   "execution_count": 1,
   "id": "2e654c8b",
   "metadata": {},
   "outputs": [],
   "source": [
    "import pandas as pd\n",
    "import numpy as np\n",
    "import scipy.stats as st"
   ]
  },
  {
   "cell_type": "markdown",
   "id": "74690394",
   "metadata": {},
   "source": [
    "* сочетания - *combinations*\n",
    "* перестановки - *arrangements*\n",
    "* перемещения - *permutations*"
   ]
  },
  {
   "cell_type": "code",
   "execution_count": 2,
   "id": "26d2d33b",
   "metadata": {},
   "outputs": [],
   "source": [
    "def combinations (n, k):\n",
    "    return np.math.factorial(n) // (np.math.factorial(k) * np.math.factorial(n - k))\n",
    "\n",
    "def arrangements (n, k):\n",
    "    return np.math.factorial(n) // np.math.factorial(n - k)\n",
    "\n",
    "def permutations (n):\n",
    "    return np.math.factorial(n)\n",
    "\n",
    "def bernulli (n, probability, target):\n",
    "    return combinations (n, target) * probability**target * (1 - probability)**(n - target)\n",
    "\n",
    "def poisson (n, probability, target):\n",
    "    return ((n * probability)**target / np.math.factorial(target)) * np.math.e**(-(n * probability))\n",
    "\n",
    "def unbiased_variance (data: pd.Series(dtype='float64')):\n",
    "    avg = data.sum() / data.count ()\n",
    "    unbiased_variance = ((data - avg) ** 2).sum() / (data.count()-1)"
   ]
  },
  {
   "cell_type": "markdown",
   "id": "e4e79f1d",
   "metadata": {},
   "source": [
    "Провести дисперсионный анализ для определения того, есть ли различия среднего роста среди взрослых футболистов, хоккеистов и штангистов. Даны значения роста в трех группах случайно выбранных спортсменов: Футболисты: 173, 175, 180, 178, 177, 185, 183, 182. Хоккеисты: 177, 179, 180, 188, 177, 172, 171, 184, 180. Штангисты: 172, 173, 169, 177, 166, 180, 178, 177, 172, 166, 170. "
   ]
  },
  {
   "cell_type": "code",
   "execution_count": 5,
   "id": "df4a4016",
   "metadata": {},
   "outputs": [],
   "source": [
    "h1 = np.array([173, 175, 180, 178, 177, 185, 183, 182])\n",
    "h2 = np.array([177, 179, 180, 188, 177, 172, 171, 184, 180])\n",
    "h3 = np.array([172, 173, 169, 177, 166, 180, 178, 177, 172, 166, 170])"
   ]
  },
  {
   "cell_type": "code",
   "execution_count": 7,
   "id": "9d3fbbf6",
   "metadata": {},
   "outputs": [],
   "source": [
    "sh1 = h1.shape[0]\n",
    "sh2 = h2.shape[0]\n",
    "sh3 = h3.shape[0]"
   ]
  },
  {
   "cell_type": "code",
   "execution_count": 8,
   "id": "e6fbb43e",
   "metadata": {},
   "outputs": [
    {
     "data": {
      "text/plain": [
       "(179.125, 178.66666666666666, 172.72727272727272)"
      ]
     },
     "execution_count": 8,
     "metadata": {},
     "output_type": "execute_result"
    }
   ],
   "source": [
    "h1_mean = h1.mean()\n",
    "h2_mean = h2.mean()\n",
    "h3_mean = h3.mean()\n",
    "\n",
    "h1_mean, h2_mean, h3_mean"
   ]
  },
  {
   "cell_type": "code",
   "execution_count": 9,
   "id": "65ac5523",
   "metadata": {},
   "outputs": [
    {
     "data": {
      "text/plain": [
       "array([173, 175, 180, 178, 177, 185, 183, 182, 177, 179, 180, 188, 177,\n",
       "       172, 171, 184, 180, 172, 173, 169, 177, 166, 180, 178, 177, 172,\n",
       "       166, 170])"
      ]
     },
     "execution_count": 9,
     "metadata": {},
     "output_type": "execute_result"
    }
   ],
   "source": [
    "h_total = np.concatenate([h1, h2, h3])\n",
    "\n",
    "h_total"
   ]
  },
  {
   "cell_type": "code",
   "execution_count": 11,
   "id": "5507592c",
   "metadata": {},
   "outputs": [
    {
     "data": {
      "text/plain": [
       "176.46428571428572"
      ]
     },
     "execution_count": 11,
     "metadata": {},
     "output_type": "execute_result"
    }
   ],
   "source": [
    "h_total_mean = h_total.mean()\n",
    "h_total_mean"
   ]
  },
  {
   "cell_type": "markdown",
   "id": "6df51906",
   "metadata": {},
   "source": [
    "Найдём сумму квадратов отклонений средних групповых значений от общего среднего значения $\\overline{y}$:\n",
    "\n",
    "$$S_F^2 = \\displaystyle\\sum_{i=1}^k (\\overline{y}_i - \\overline{y})^2 n_i$$\n",
    "\n",
    "и остаточную сумму квадратов отклонений:\n",
    "\n",
    "$$S_{res}^{2} = \\displaystyle\\sum_{i=1}^k \\displaystyle\\sum_{j=1}^{n_i} (y_{ij} - \\overline{y}_i)^2.$$"
   ]
  },
  {
   "cell_type": "code",
   "execution_count": 13,
   "id": "7953eedf",
   "metadata": {},
   "outputs": [
    {
     "data": {
      "text/plain": [
       "(253.9074675324678, 577.0568181818182)"
      ]
     },
     "execution_count": 13,
     "metadata": {},
     "output_type": "execute_result"
    }
   ],
   "source": [
    "s2_f = sh1 * (h1_mean - h_total_mean) ** 2 + sh2 * (h2_mean - h_total_mean) ** 2 + sh3 * (h3_mean - h_total_mean) ** 2\n",
    "\n",
    "s2_res = ((h1 - h1_mean) ** 2).sum() + ((h2 - h2_mean) ** 2).sum() + ((h3 - h3_mean) ** 2).sum()\n",
    "\n",
    "s2_f, s2_res"
   ]
  },
  {
   "cell_type": "markdown",
   "id": "0aae075d",
   "metadata": {},
   "source": [
    "Запишем несмещенные оценки дисперсий:\n",
    "\n",
    "$$\\sigma_F^2 = \\dfrac{S_F^2}{k - 1}, \\: \\sigma_{res}^2 = \\dfrac{S_{res}^2}{n - k}.$$"
   ]
  },
  {
   "cell_type": "code",
   "execution_count": 14,
   "id": "9ba465c9",
   "metadata": {},
   "outputs": [
    {
     "data": {
      "text/plain": [
       "(126.9537337662339, 23.08227272727273)"
      ]
     },
     "execution_count": 14,
     "metadata": {},
     "output_type": "execute_result"
    }
   ],
   "source": [
    "k = 3\n",
    "sh = sh1 + sh2 + sh3\n",
    "\n",
    "k1 = k - 1\n",
    "k2 = sh - k\n",
    "\n",
    "sigma2_F = S2_F / k1\n",
    "sigma2_res = S2_res / k2\n",
    "\n",
    "sigma2_F, sigma2_res"
   ]
  },
  {
   "cell_type": "markdown",
   "id": "e6c6d366",
   "metadata": {},
   "source": [
    "Итак, значение статистики $T$:\n",
    "\n",
    "$$T = \\dfrac{\\sigma_F^2}{\\sigma_{res}^2}.$$"
   ]
  },
  {
   "cell_type": "code",
   "execution_count": 15,
   "id": "6e4a1f8c",
   "metadata": {},
   "outputs": [
    {
     "data": {
      "text/plain": [
       "5.500053450812598"
      ]
     },
     "execution_count": 15,
     "metadata": {},
     "output_type": "execute_result"
    }
   ],
   "source": [
    "T = sigma2_F / sigma2_res\n",
    "T"
   ]
  },
  {
   "cell_type": "markdown",
   "id": "bcd13c7d",
   "metadata": {},
   "source": [
    "Зафиксируем уровень значимости $\\alpha = 0.05$. Для него найдём критическое значение $F_{crit}$:"
   ]
  },
  {
   "cell_type": "code",
   "execution_count": 16,
   "id": "e043e614",
   "metadata": {},
   "outputs": [
    {
     "data": {
      "text/plain": [
       "3.3851899614491683"
      ]
     },
     "execution_count": 16,
     "metadata": {},
     "output_type": "execute_result"
    }
   ],
   "source": [
    "alpha = 0.05\n",
    "\n",
    "F_crit = st.f.ppf(1 - alpha, k1, k2)\n",
    "F_crit"
   ]
  },
  {
   "cell_type": "markdown",
   "id": "bb8667ba",
   "metadata": {},
   "source": [
    "Видим, что $T > F_{crit}$, поэтому заключаем, что отличие среднего роста среди взрослых футболистов, хоккеистов и штангистов действительно является статистически значимым, гипотеза $H_0$ отвергается."
   ]
  }
 ],
 "metadata": {
  "kernelspec": {
   "display_name": "Python 3 (ipykernel)",
   "language": "python",
   "name": "python3"
  },
  "language_info": {
   "codemirror_mode": {
    "name": "ipython",
    "version": 3
   },
   "file_extension": ".py",
   "mimetype": "text/x-python",
   "name": "python",
   "nbconvert_exporter": "python",
   "pygments_lexer": "ipython3",
   "version": "3.11.1"
  }
 },
 "nbformat": 4,
 "nbformat_minor": 5
}
