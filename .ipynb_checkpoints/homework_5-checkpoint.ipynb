{
 "cells": [
  {
   "cell_type": "markdown",
   "id": "1ed23716",
   "metadata": {},
   "source": [
    "### Теория вероятностей и математическая статистика\n",
    "\n",
    "## Домашнее задание 5"
   ]
  },
  {
   "cell_type": "code",
   "execution_count": 3,
   "id": "2e654c8b",
   "metadata": {},
   "outputs": [],
   "source": [
    "import pandas as pd\n",
    "import numpy as np\n",
    "import scipy.stats as st"
   ]
  },
  {
   "cell_type": "markdown",
   "id": "74690394",
   "metadata": {},
   "source": [
    "* сочетания - *combinations*\n",
    "* перестановки - *arrangements*\n",
    "* перемещения - *permutations*"
   ]
  },
  {
   "cell_type": "code",
   "execution_count": 15,
   "id": "26d2d33b",
   "metadata": {},
   "outputs": [],
   "source": [
    "def combinations (n, k):\n",
    "    return np.math.factorial(n) // (np.math.factorial(k) * np.math.factorial(n - k))\n",
    "\n",
    "def arrangements (n, k):\n",
    "    return np.math.factorial(n) // np.math.factorial(n - k)\n",
    "\n",
    "def permutations (n):\n",
    "    return np.math.factorial(n)\n",
    "\n",
    "def bernulli (n, probability, target):\n",
    "    return combinations (n, target) * probability**target * (1 - probability)**(n - target)\n",
    "\n",
    "def poisson (n, probability, target):\n",
    "    return ((n * probability)**target / np.math.factorial(target)) * np.math.e**(-(n * probability))\n",
    "\n",
    "def unbiased_variance (data: pd.Series(dtype='float64')):\n",
    "    avg = data.sum() / data.count ()\n",
    "    unbiased_variance = ((data - avg) ** 2).sum() / (data.count()-1)"
   ]
  },
  {
   "cell_type": "markdown",
   "id": "545fbe9c",
   "metadata": {},
   "source": [
    "1. Когда используется критерий Стьюдента, а когда Z –критерий?"
   ]
  },
  {
   "cell_type": "markdown",
   "id": "eafa0dce",
   "metadata": {},
   "source": [
    "#### И z-критерий, и критерий Стьюдента используются для нормального распределения.\n",
    "* Критерий Стьюдента, или t-критерий, используется, если среднее квадратическое отклонение генеральной совокупности неизвестно.\n",
    "* Z-критерий используется, если среднее квадратическое отклонение генеральной совокупности известно."
   ]
  },
  {
   "cell_type": "markdown",
   "id": "0265bb01",
   "metadata": {},
   "source": [
    "2. Проведите тест гипотезы. Утверждается, что шарики для подшипников, изготовленные автоматическим станком, имеют средний диаметр 17 мм. Используя односторонний критерий с α=0,05, проверить эту гипотезу, если в выборке из n=100 шариков средний диаметр оказался равным 17.5 мм, а дисперсия известна и равна 4 кв. мм. "
   ]
  },
  {
   "cell_type": "markdown",
   "id": "7195f0d1",
   "metadata": {},
   "source": [
    "H0: D = 17\n",
    "\n",
    "H1: D > 17"
   ]
  },
  {
   "cell_type": "markdown",
   "id": "d1ba3ab9",
   "metadata": {},
   "source": [
    "### $$ U = {\\frac{x - \\mu}{s \\sqrt n}}$$"
   ]
  },
  {
   "cell_type": "code",
   "execution_count": 37,
   "id": "26930f0e",
   "metadata": {},
   "outputs": [],
   "source": [
    "test = (17.5 - 17) / 2 * np.sqrt(100)\n",
    "alpha = 0.05"
   ]
  },
  {
   "cell_type": "code",
   "execution_count": 39,
   "id": "723e8840",
   "metadata": {},
   "outputs": [
    {
     "name": "stdout",
     "output_type": "stream",
     "text": [
      "Гипотеза отвергнута\n"
     ]
    }
   ],
   "source": [
    "if test > st.norm.ppf(1 - alpha):\n",
    "    print ('Гипотеза отвергнута')\n",
    "else:\n",
    "    print ('Гипотеза принята')"
   ]
  },
  {
   "cell_type": "markdown",
   "id": "f8970983",
   "metadata": {},
   "source": [
    "3. Проведите тест гипотезы. Продавец утверждает, что средний вес пачки печенья составляет 200 г. Из партии извлечена выборка из 10 пачек. Вес каждой пачки составляет: 202, 203, 199, 197, 195, 201, 200, 204, 194, 190. Известно, что их веса распределены нормально. Верно ли утверждение продавца, если учитывать, что доверительная вероятность равна 99%? (Провести двусторонний тест.) "
   ]
  },
  {
   "cell_type": "code",
   "execution_count": 49,
   "id": "a471cca8",
   "metadata": {},
   "outputs": [],
   "source": [
    "cookies = np.array([202, 203, 199, 197, 195, 201, 200, 204, 194, 190])\n",
    "n = len(cookies)\n",
    "cookies_mean = cookies.mean()\n",
    "cookies_stdX = cookies.std(ddof = 1) "
   ]
  },
  {
   "cell_type": "code",
   "execution_count": 42,
   "id": "e4ae1c8b",
   "metadata": {},
   "outputs": [
    {
     "data": {
      "text/plain": [
       "-1.0651074037450896"
      ]
     },
     "execution_count": 42,
     "metadata": {},
     "output_type": "execute_result"
    }
   ],
   "source": [
    "t_fact = (cookies_mean - 200) / cookies_stdX * np.sqrt (10)\n",
    "t_fact"
   ]
  },
  {
   "cell_type": "code",
   "execution_count": 82,
   "id": "b8cff345",
   "metadata": {},
   "outputs": [
    {
     "data": {
      "text/plain": [
       "3.2498355440153697"
      ]
     },
     "execution_count": 82,
     "metadata": {},
     "output_type": "execute_result"
    }
   ],
   "source": [
    "t_table_2 = st.t(n-1).ppf(1 - 0.01 / 2)\n",
    "t_table_2"
   ]
  },
  {
   "cell_type": "code",
   "execution_count": 60,
   "id": "36467866",
   "metadata": {},
   "outputs": [
    {
     "name": "stdout",
     "output_type": "stream",
     "text": [
      "Гипотеза принята\n"
     ]
    }
   ],
   "source": [
    "trusted_interval = (cookies_mean - t_table * cookies_stdX / np.sqrt(n), cookies_mean + t_table * cookies_stdX / np.sqrt(n))\n",
    "if 200 > trusted_interval[0] and 200 < trusted_interval[1]:\n",
    "    print ('Гипотеза принята')\n",
    "else:\n",
    "    print ('Гипотеза отвергнута')"
   ]
  },
  {
   "cell_type": "markdown",
   "id": "b1797385",
   "metadata": {},
   "source": [
    "4. Есть ли статистически значимые различия в росте дочерей? Рост матерей 172, 177, 158, 170, 178,175, 164, 160, 169, 165 Рост взрослых дочерей: 173, 175, 162, 174, 175, 168, 155, 170, 160. Задачу решать с помощью функции. "
   ]
  },
  {
   "cell_type": "code",
   "execution_count": 79,
   "id": "727dee73",
   "metadata": {},
   "outputs": [],
   "source": [
    "mothers = np.array([172, 177, 158, 170, 178, 175, 164, 160, 169, 165])\n",
    "daughters = np.array([173, 175, 162, 174, 175, 168, 155, 170, 160])"
   ]
  },
  {
   "cell_type": "code",
   "execution_count": 76,
   "id": "c0bec718",
   "metadata": {},
   "outputs": [
    {
     "data": {
      "text/plain": [
       "(168.8, 168.0)"
      ]
     },
     "execution_count": 76,
     "metadata": {},
     "output_type": "execute_result"
    }
   ],
   "source": [
    "mothers_mean = mothers.mean()\n",
    "daughters_mean = daughters.mean()\n",
    "(mothers_mean, daughters_mean)"
   ]
  },
  {
   "cell_type": "code",
   "execution_count": 77,
   "id": "787ab2e3",
   "metadata": {},
   "outputs": [
    {
     "data": {
      "text/plain": [
       "(6.941021378570864, 7.3484692283495345)"
      ]
     },
     "execution_count": 77,
     "metadata": {},
     "output_type": "execute_result"
    }
   ],
   "source": [
    "mothers_stdX = mothers.std(ddof = 1) \n",
    "daughters_stdX = daughters.std(ddof = 1) \n",
    "(mothers_stdX, daughters_stdX)"
   ]
  },
  {
   "cell_type": "code",
   "execution_count": 78,
   "id": "38ef0ea9",
   "metadata": {
    "scrolled": true
   },
   "outputs": [
    {
     "data": {
      "text/plain": [
       "Ttest_indResult(statistic=0.24400587215969016, pvalue=0.8101467126543233)"
      ]
     },
     "execution_count": 78,
     "metadata": {},
     "output_type": "execute_result"
    }
   ],
   "source": [
    "st.ttest_ind(mothers, daughters)"
   ]
  },
  {
   "cell_type": "code",
   "execution_count": 83,
   "id": "f12b4bc3",
   "metadata": {},
   "outputs": [
    {
     "data": {
      "text/plain": [
       "2.3060041350333704"
      ]
     },
     "execution_count": 83,
     "metadata": {},
     "output_type": "execute_result"
    }
   ],
   "source": [
    "t_table_3 = st.t(len(daughters)-1).ppf(1 - 0.05 / 2)\n",
    "t_table_3"
   ]
  },
  {
   "cell_type": "markdown",
   "id": "ae37ef4f",
   "metadata": {},
   "source": [
    "Статистическое ниже табличного, что свидетельствует о том, что статистические отличия в данных отсутствуют (принимается нулевая гипотеза о равенстве выборок), а высокий уровень p-value означает, что отличия носят случайный характер."
   ]
  }
 ],
 "metadata": {
  "kernelspec": {
   "display_name": "Python 3 (ipykernel)",
   "language": "python",
   "name": "python3"
  },
  "language_info": {
   "codemirror_mode": {
    "name": "ipython",
    "version": 3
   },
   "file_extension": ".py",
   "mimetype": "text/x-python",
   "name": "python",
   "nbconvert_exporter": "python",
   "pygments_lexer": "ipython3",
   "version": "3.11.1"
  }
 },
 "nbformat": 4,
 "nbformat_minor": 5
}
