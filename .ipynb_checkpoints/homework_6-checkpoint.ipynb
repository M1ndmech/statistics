{
 "cells": [
  {
   "cell_type": "markdown",
   "id": "1ed23716",
   "metadata": {},
   "source": [
    "###### Теория вероятностей и математическая статистика\n",
    "\n",
    "## Домашнее задание 6"
   ]
  },
  {
   "cell_type": "code",
   "execution_count": 1,
   "id": "2e654c8b",
   "metadata": {},
   "outputs": [],
   "source": [
    "import pandas as pd\n",
    "import numpy as np\n",
    "import scipy.stats as st\n",
    "import math"
   ]
  },
  {
   "cell_type": "markdown",
   "id": "74690394",
   "metadata": {},
   "source": [
    "* сочетания - *combinations*\n",
    "* перестановки - *arrangements*\n",
    "* перемещения - *permutations*"
   ]
  },
  {
   "cell_type": "code",
   "execution_count": 2,
   "id": "26d2d33b",
   "metadata": {},
   "outputs": [],
   "source": [
    "def combinations (n, k):\n",
    "    return np.math.factorial(n) // (np.math.factorial(k) * np.math.factorial(n - k))\n",
    "\n",
    "def arrangements (n, k):\n",
    "    return np.math.factorial(n) // np.math.factorial(n - k)\n",
    "\n",
    "def permutations (n):\n",
    "    return np.math.factorial(n)\n",
    "\n",
    "def bernulli (n, probability, target):\n",
    "    return combinations (n, target) * probability**target * (1 - probability)**(n - target)\n",
    "\n",
    "def poisson (n, probability, target):\n",
    "    return ((n * probability)**target / np.math.factorial(target)) * np.math.e**(-(n * probability))\n",
    "\n",
    "def unbiased_variance (data: pd.Series(dtype='float64')):\n",
    "    avg = data.sum() / data.count ()\n",
    "    unbiased_variance = ((data - avg) ** 2).sum() / (data.count()-1)"
   ]
  },
  {
   "cell_type": "markdown",
   "id": "545fbe9c",
   "metadata": {},
   "source": [
    "1. Известно, что генеральная совокупность распределена нормально со средним квадратическим отклонением, равным 16.\n",
    "Найти доверительный интервал для оценки математического ожидания a с надежностью 0.95, если выборочная средняя M = 80, а объем выборки n = 256."
   ]
  },
  {
   "cell_type": "code",
   "execution_count": 3,
   "id": "e3f0071d",
   "metadata": {},
   "outputs": [
    {
     "data": {
      "text/plain": [
       "1.9693105698491928"
      ]
     },
     "execution_count": 3,
     "metadata": {},
     "output_type": "execute_result"
    }
   ],
   "source": [
    "# n-1\n",
    "# 1 - alpha / 2\n",
    "\n",
    "t_obj = st.t(256 - 1)\n",
    "t = t_obj.ppf(1 - 0.05 / 2)\n",
    "t"
   ]
  },
  {
   "cell_type": "markdown",
   "id": "7284b58a",
   "metadata": {},
   "source": [
    "\n",
    "$\n",
    "P \\left( \n",
    "\\overline{X} - t_{1 - \\alpha/2, \\: n - 1} \\cdot \\dfrac{S}{\\sqrt{n}} \n",
    "\\leq M(X) \\leq\n",
    "\\overline{X} + t_{1 - \\alpha/2, \\: n - 1} \\cdot \\dfrac{S}{\\sqrt{n}} \n",
    "\\right) = 1 - \\alpha.\n",
    "$"
   ]
  },
  {
   "cell_type": "code",
   "execution_count": 4,
   "id": "902126c4",
   "metadata": {},
   "outputs": [
    {
     "data": {
      "text/plain": [
       "(78.0306894301508, 81.9693105698492)"
      ]
     },
     "execution_count": 4,
     "metadata": {},
     "output_type": "execute_result"
    }
   ],
   "source": [
    "s = 16\n",
    "n = 256\n",
    "m = 80\n",
    "\n",
    "(m - t * s / np.sqrt(n), m + t * s / np.sqrt(n))"
   ]
  },
  {
   "cell_type": "markdown",
   "id": "0265bb01",
   "metadata": {},
   "source": [
    "2.В результате 10 независимых измерений некоторой величины X, выполненных с одинаковой точностью, получены опытные данные:\n",
    "\n",
    "6.9, 6.1, 6.2, 6.8, 7.5, 6.3, 6.4, 6.9, 6.7, 6.1\n",
    "\n",
    "Предполагая, что результаты измерений подчинены нормальному закону распределения вероятностей, оценить истинное значение величины X при помощи доверительного интервала, покрывающего это значение с доверительной вероятностью 0,95."
   ]
  },
  {
   "cell_type": "code",
   "execution_count": 5,
   "id": "8d6c22ee",
   "metadata": {},
   "outputs": [],
   "source": [
    "values = np.array([6.9, 6.1, 6.2, 6.8, 7.5, 6.3, 6.4, 6.9, 6.7, 6.1])"
   ]
  },
  {
   "cell_type": "code",
   "execution_count": 6,
   "id": "2e7380db",
   "metadata": {},
   "outputs": [],
   "source": [
    "values_mean = values.mean()"
   ]
  },
  {
   "cell_type": "code",
   "execution_count": 7,
   "id": "10e9a57d",
   "metadata": {},
   "outputs": [
    {
     "data": {
      "text/plain": [
       "(6.267515851415713, 6.912484148584288)"
      ]
     },
     "execution_count": 7,
     "metadata": {},
     "output_type": "execute_result"
    }
   ],
   "source": [
    "st.t.interval(confidence=0.95, df=len(values)-1, loc=values_mean, scale=st.sem(values))"
   ]
  },
  {
   "cell_type": "markdown",
   "id": "b1797385",
   "metadata": {},
   "source": [
    "3.Рост дочерей 175, 167, 154, 174, 178, 148, 160, 167, 169, 170\n",
    "Рост матерей  178, 165, 165, 173, 168, 155, 160, 164, 178, 175\n",
    "\n",
    "Используя эти данные построить 95% доверительный интервал для разности среднего роста родителей и детей. "
   ]
  },
  {
   "cell_type": "markdown",
   "id": "15819e2e",
   "metadata": {},
   "source": [
    "## $f(x) = {\\frac {(\\overline{X}_1 - \\overline{X}_2) - (m_1 - m_2)}{\\sqrt {\\frac {\\sigma_1^2}{n_1} + \\frac {\\sigma_2^2}{n_2}}}}$, \n",
    "где\n",
    "$\\sigma$ - дисперсия, m - математическое ожидание, $\\overline{X}$ - среднее значение\n",
    "\n",
    "*Среднеквадратическое отклонение - корень из дисперсии\n",
    "\n",
    "### $ ({(\\overline{X}_1 - \\overline{X}_2) - (u_{1-{\\alpha}/2})}{\\sqrt {\\frac {\\sigma_1^2}{n_1} + \\frac {\\sigma_2^2}{n_2}}};{(\\overline{X}_1 - \\overline{X}_2) + (u_{1-{\\alpha}/2})}{\\sqrt {\\frac {\\sigma_1^2}{n_1} + \\frac {\\sigma_2^2}{n_2}}})$, "
   ]
  },
  {
   "cell_type": "code",
   "execution_count": 8,
   "id": "727dee73",
   "metadata": {},
   "outputs": [],
   "source": [
    "mothers = np.array([178, 165, 165, 173, 168, 155, 160, 164, 178, 175])\n",
    "daughters = np.array([175, 167, 154, 174, 178, 148, 160, 167, 169, 170])"
   ]
  },
  {
   "cell_type": "code",
   "execution_count": 33,
   "id": "787ab2e3",
   "metadata": {
    "scrolled": true
   },
   "outputs": [
    {
     "data": {
      "text/plain": [
       "167.15"
      ]
     },
     "execution_count": 33,
     "metadata": {},
     "output_type": "execute_result"
    }
   ],
   "source": [
    "m_mean = mothers.mean()\n",
    "d_mean = daughters.mean()\n",
    "diff = m_mean - d_mean\n",
    "data = np.append(mothers, daughters)\n",
    "m_stdX = mothers.std(ddof = 1) \n",
    "d_stdX = daughters.std(ddof = 1) \n",
    "data.mean()"
   ]
  },
  {
   "cell_type": "code",
   "execution_count": 30,
   "id": "d3c3e5a2",
   "metadata": {},
   "outputs": [
    {
     "data": {
      "text/plain": [
       "2.2621571627409915"
      ]
     },
     "execution_count": 30,
     "metadata": {},
     "output_type": "execute_result"
    }
   ],
   "source": [
    "t_table = st.t(len(mothers)-1).ppf(1 - 0.05 / 2)\n",
    "t_table"
   ]
  },
  {
   "cell_type": "code",
   "execution_count": 38,
   "id": "9053c460",
   "metadata": {},
   "outputs": [
    {
     "data": {
      "text/plain": [
       "(-6.895302734271395, 10.695302734271406)"
      ]
     },
     "execution_count": 38,
     "metadata": {},
     "output_type": "execute_result"
    }
   ],
   "source": [
    "result = (m_mean - d_mean - (t_table*np.sqrt(m_stdX**2/len(mothers) + d_stdX**2/len(daughters))), \n",
    "          m_mean - d_mean + (t_table*np.sqrt(m_stdX**2/len(mothers) + d_stdX**2/len(daughters))))\n",
    "result"
   ]
  }
 ],
 "metadata": {
  "kernelspec": {
   "display_name": "Python 3 (ipykernel)",
   "language": "python",
   "name": "python3"
  },
  "language_info": {
   "codemirror_mode": {
    "name": "ipython",
    "version": 3
   },
   "file_extension": ".py",
   "mimetype": "text/x-python",
   "name": "python",
   "nbconvert_exporter": "python",
   "pygments_lexer": "ipython3",
   "version": "3.11.1"
  }
 },
 "nbformat": 4,
 "nbformat_minor": 5
}
