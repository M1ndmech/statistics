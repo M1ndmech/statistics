{
 "cells": [
  {
   "cell_type": "markdown",
   "id": "1ed23716",
   "metadata": {},
   "source": [
    "### Теория вероятностей и математическая статистика\n",
    "\n",
    "## Домашнее задание 1"
   ]
  },
  {
   "cell_type": "code",
   "execution_count": 3,
   "id": "2e654c8b",
   "metadata": {},
   "outputs": [],
   "source": [
    "import pandas as pd\n",
    "import numpy as np"
   ]
  },
  {
   "cell_type": "markdown",
   "id": "74690394",
   "metadata": {},
   "source": [
    "* сочетания - *combinations*\n",
    "* перестановки - *arrangements*\n",
    "* перемещения - *permutations*"
   ]
  },
  {
   "cell_type": "code",
   "execution_count": 6,
   "id": "26d2d33b",
   "metadata": {},
   "outputs": [],
   "source": [
    "def combinations (n, k):\n",
    "    return np.math.factorial(n) // (np.math.factorial(k) * np.math.factorial(n - k))\n",
    "\n",
    "def arrangements (n, k):\n",
    "    return np.math.factorial(n) // np.math.factorial(n - k)\n",
    "\n",
    "def permutations (n):\n",
    "    return np.math.factorial(n)"
   ]
  },
  {
   "cell_type": "markdown",
   "id": "545fbe9c",
   "metadata": {},
   "source": [
    "**1. Из колоды в 52 карты извлекаются случайным образом 4 карты.** \n",
    "\n",
    "**a) Найти вероятность того, что все карты – крести.** \n",
    "\n",
    "**б) Найти вероятность, что среди 4-х карт окажется хотя бы один туз.**"
   ]
  },
  {
   "cell_type": "markdown",
   "id": "56bbd8cf",
   "metadata": {},
   "source": [
    "Считаем все возможные сочетания из четырех крестей. Далее - возможные сочетания 4 карт, делим одно на другое."
   ]
  },
  {
   "cell_type": "code",
   "execution_count": 16,
   "id": "132fb61f",
   "metadata": {},
   "outputs": [
    {
     "data": {
      "text/plain": [
       "715"
      ]
     },
     "execution_count": 16,
     "metadata": {},
     "output_type": "execute_result"
    }
   ],
   "source": [
    "clubs = combinations(13, 4)\n",
    "clubs"
   ]
  },
  {
   "cell_type": "code",
   "execution_count": 11,
   "id": "b51e1ec8",
   "metadata": {},
   "outputs": [
    {
     "data": {
      "text/plain": [
       "270725"
      ]
     },
     "execution_count": 11,
     "metadata": {},
     "output_type": "execute_result"
    }
   ],
   "source": [
    "cards = combinations(52, 4)\n",
    "cards"
   ]
  },
  {
   "cell_type": "code",
   "execution_count": 17,
   "id": "6cd51034",
   "metadata": {},
   "outputs": [
    {
     "data": {
      "text/plain": [
       "0.0026410564225690276"
      ]
     },
     "execution_count": 17,
     "metadata": {},
     "output_type": "execute_result"
    }
   ],
   "source": [
    "prob_1a = clubs/cards\n",
    "prob_1a"
   ]
  },
  {
   "cell_type": "code",
   "execution_count": 33,
   "id": "28caeeae",
   "metadata": {},
   "outputs": [
    {
     "data": {
      "text/plain": [
       "0.2812632745405855"
      ]
     },
     "execution_count": 33,
     "metadata": {},
     "output_type": "execute_result"
    }
   ],
   "source": [
    "ace_1 = combinations (4, 1) * combinations(48, 3)\n",
    "ace_2 = combinations (4, 2) * combinations(48, 2)\n",
    "ace_3 = combinations (4, 3) * combinations(48, 1)\n",
    "ace_4 = combinations (4, 4)\n",
    "prob_1b = (ace_1 + ace_2 + ace_3 + ace_4)/cards\n",
    "prob_1b"
   ]
  },
  {
   "cell_type": "markdown",
   "id": "0265bb01",
   "metadata": {},
   "source": [
    "2. На входной двери подъезда установлен кодовый замок, содержащий десять кнопок с цифрами от 0 до 9. Код содержит три цифры, которые нужно нажать одновременно. \n",
    "\n",
    "Какова вероятность того, что человек, не знающий код, откроет дверь с первой попытки?"
   ]
  },
  {
   "cell_type": "code",
   "execution_count": 34,
   "id": "17560a1b",
   "metadata": {},
   "outputs": [
    {
     "data": {
      "text/plain": [
       "0.008333333333333333"
      ]
     },
     "execution_count": 34,
     "metadata": {},
     "output_type": "execute_result"
    }
   ],
   "source": [
    "prob_2 = 1/combinations(10, 3)\n",
    "prob_2 "
   ]
  },
  {
   "cell_type": "markdown",
   "id": "924617e1",
   "metadata": {},
   "source": [
    "3. В ящике имеется 15 деталей, из которых 9 окрашены. Рабочий случайным образом извлекает 3 детали. \n",
    "\n",
    "Какова вероятность того, что все извлеченные детали окрашены?"
   ]
  },
  {
   "cell_type": "code",
   "execution_count": 42,
   "id": "d3435077",
   "metadata": {},
   "outputs": [],
   "source": [
    "parts = combinations(9,3)\n",
    "parts_taken = combinations(15,3)"
   ]
  },
  {
   "cell_type": "code",
   "execution_count": 43,
   "id": "b5feebff",
   "metadata": {},
   "outputs": [
    {
     "data": {
      "text/plain": [
       "0.18461538461538463"
      ]
     },
     "execution_count": 43,
     "metadata": {},
     "output_type": "execute_result"
    }
   ],
   "source": [
    "prob_3 = parts/parts_taken\n",
    "prob_3"
   ]
  },
  {
   "cell_type": "markdown",
   "id": "738823b8",
   "metadata": {},
   "source": [
    "4. В лотерее 100 билетов. Из них 2 выигрышных. \n",
    "\n",
    "Какова вероятность того, что 2 приобретенных билета окажутся выигрышными?"
   ]
  },
  {
   "cell_type": "code",
   "execution_count": 44,
   "id": "fa8a3a80",
   "metadata": {},
   "outputs": [
    {
     "data": {
      "text/plain": [
       "0.00020202020202020202"
      ]
     },
     "execution_count": 44,
     "metadata": {},
     "output_type": "execute_result"
    }
   ],
   "source": [
    "prob_4 = combinations (2,2) / combinations (100, 2)\n",
    "prob_4"
   ]
  }
 ],
 "metadata": {
  "kernelspec": {
   "display_name": "Python 3 (ipykernel)",
   "language": "python",
   "name": "python3"
  },
  "language_info": {
   "codemirror_mode": {
    "name": "ipython",
    "version": 3
   },
   "file_extension": ".py",
   "mimetype": "text/x-python",
   "name": "python",
   "nbconvert_exporter": "python",
   "pygments_lexer": "ipython3",
   "version": "3.11.1"
  }
 },
 "nbformat": 4,
 "nbformat_minor": 5
}
