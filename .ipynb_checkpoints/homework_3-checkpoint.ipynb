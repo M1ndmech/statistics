{
 "cells": [
  {
   "cell_type": "markdown",
   "id": "1ed23716",
   "metadata": {},
   "source": [
    "### Теория вероятностей и математическая статистика\n",
    "\n",
    "## Домашнее задание 3"
   ]
  },
  {
   "cell_type": "code",
   "execution_count": 2,
   "id": "2e654c8b",
   "metadata": {},
   "outputs": [],
   "source": [
    "import pandas as pd\n",
    "import numpy as np"
   ]
  },
  {
   "cell_type": "markdown",
   "id": "74690394",
   "metadata": {},
   "source": [
    "* сочетания - *combinations*\n",
    "* перестановки - *arrangements*\n",
    "* перемещения - *permutations*"
   ]
  },
  {
   "cell_type": "code",
   "execution_count": 3,
   "id": "26d2d33b",
   "metadata": {},
   "outputs": [],
   "source": [
    "def combinations (n, k):\n",
    "    return np.math.factorial(n) // (np.math.factorial(k) * np.math.factorial(n - k))\n",
    "\n",
    "def arrangements (n, k):\n",
    "    return np.math.factorial(n) // np.math.factorial(n - k)\n",
    "\n",
    "def permutations (n):\n",
    "    return np.math.factorial(n)\n",
    "\n",
    "def bernulli (n, probability, target):\n",
    "    return combinations (n, target) * probability**target * (1 - probability)**(n - target)\n",
    "\n",
    "def poisson (n, probability, target):\n",
    "    return ((n * probability)**target / np.math.factorial(target)) * np.math.e**(-(n * probability))"
   ]
  },
  {
   "cell_type": "markdown",
   "id": "545fbe9c",
   "metadata": {},
   "source": [
    "1. Даны значения зарплат из выборки выпускников: 100, 80, 75, 77, 89, 33, 45, 25, 65, 17, 30, 24, 57, 55, 70, 75, 65, 84, 90, 150. Посчитать (желательно без использования статистических методов наподобие std, var, mean) среднее арифметическое, среднее квадратичное отклонение, смещенную и несмещенную оценки дисперсий для данной выборки."
   ]
  },
  {
   "cell_type": "code",
   "execution_count": 13,
   "id": "c6f1ede9",
   "metadata": {},
   "outputs": [
    {
     "data": {
      "text/plain": [
       "65.3"
      ]
     },
     "execution_count": 13,
     "metadata": {},
     "output_type": "execute_result"
    }
   ],
   "source": [
    "ds = pd.Series([100, 80, 75, 77, 89, 33, 45, 25, 65, 17, 30, 24, 57, 55, 70, 75, 65, 84, 90, 150])\n",
    "avg = ds.sum() / ds.count ()\n",
    "avg"
   ]
  },
  {
   "cell_type": "code",
   "execution_count": 17,
   "id": "da90943e",
   "metadata": {},
   "outputs": [
    {
     "data": {
      "text/plain": [
       "30.823854398825596"
      ]
     },
     "execution_count": 17,
     "metadata": {},
     "output_type": "execute_result"
    }
   ],
   "source": [
    "std_dev = np.sqrt(((ds - avg) ** 2).sum() / ds.count())\n",
    "std_dev"
   ]
  },
  {
   "cell_type": "code",
   "execution_count": 18,
   "id": "60c0132a",
   "metadata": {},
   "outputs": [
    {
     "data": {
      "text/plain": [
       "950.11"
      ]
     },
     "execution_count": 18,
     "metadata": {},
     "output_type": "execute_result"
    }
   ],
   "source": [
    "shifted_variance = ((ds - avg) ** 2).sum() / ds.count()\n",
    "shifted_variance"
   ]
  },
  {
   "cell_type": "code",
   "execution_count": 19,
   "id": "baf53db1",
   "metadata": {},
   "outputs": [
    {
     "data": {
      "text/plain": [
       "1000.1157894736842"
      ]
     },
     "execution_count": 19,
     "metadata": {},
     "output_type": "execute_result"
    }
   ],
   "source": [
    "unbiased_variance = ((ds - avg) ** 2).sum() / (ds.count()-1)\n",
    "unbiased_variance"
   ]
  },
  {
   "cell_type": "markdown",
   "id": "0265bb01",
   "metadata": {},
   "source": [
    "2. В первом ящике находится 8 мячей, из которых 5 - белые. Во втором ящике - 12 мячей, из которых 5 белых. Из первого ящика вытаскивают случайным образом два мяча, из второго - 4. Какова вероятность того, что 3 мяча белые?"
   ]
  },
  {
   "cell_type": "markdown",
   "id": "44f850b1",
   "metadata": {},
   "source": [
    "* 1 вариант - 2б+1б\n",
    "* 2 вариант - 1б+2б\n",
    "* 3 вариант - 0б+3б"
   ]
  },
  {
   "cell_type": "code",
   "execution_count": 33,
   "id": "fb6ec514",
   "metadata": {},
   "outputs": [
    {
     "name": "stdout",
     "output_type": "stream",
     "text": [
      "Вероятность вытащить 3 белых мяча: 36.869%\n"
     ]
    }
   ],
   "source": [
    "var1 = (combinations(5, 2)*combinations(3, 0))/combinations(8, 2) * (combinations(5, 1)*combinations(7, 3))/combinations(12, 4)\n",
    "var2 = (combinations(5, 1)*combinations(3, 1))/combinations(8, 2) * (combinations(5, 2)*combinations(7, 2))/combinations(12, 4)\n",
    "var3 = (combinations(5, 0)*combinations(3, 2))/combinations(8, 2) * (combinations(5, 3)*combinations(7, 1))/combinations(12, 4)\n",
    "print(f'Вероятность вытащить 3 белых мяча: {var1 + var2 + var3 :.3%}')"
   ]
  },
  {
   "cell_type": "markdown",
   "id": "f8970983",
   "metadata": {},
   "source": [
    "3. На соревновании по биатлону один из трех спортсменов стреляет и попадает в мишень. Вероятность попадания для первого спортсмена равна 0.9, для второго — 0.8, для третьего — 0.6. Найти вероятность того, что выстрел произведен: a). первым спортсменом б). вторым спортсменом в). третьим спортсменом."
   ]
  },
  {
   "cell_type": "code",
   "execution_count": 35,
   "id": "ec082cf1",
   "metadata": {},
   "outputs": [
    {
     "data": {
      "text/plain": [
       "0.7666666666666666"
      ]
     },
     "execution_count": 35,
     "metadata": {},
     "output_type": "execute_result"
    }
   ],
   "source": [
    "task3_total_var = 1/3 * 0.9 + 1/3 * 0.8 + 1/3 * 0.6\n",
    "task3_total_var"
   ]
  },
  {
   "cell_type": "code",
   "execution_count": 40,
   "id": "2fa75448",
   "metadata": {},
   "outputs": [
    {
     "name": "stdout",
     "output_type": "stream",
     "text": [
      "Вероятность что попал 1 спортсмен: 39.130%\n"
     ]
    }
   ],
   "source": [
    "task3_var_1 = 1/3 * 0.9 / task3_total_var\n",
    "print(f'Вероятность что попал 1 спортсмен: {task3_var_1 :.3%}')"
   ]
  },
  {
   "cell_type": "code",
   "execution_count": 42,
   "id": "902c8169",
   "metadata": {},
   "outputs": [
    {
     "name": "stdout",
     "output_type": "stream",
     "text": [
      "Вероятность что попал 1 спортсмен: 34.783%\n"
     ]
    }
   ],
   "source": [
    "task3_var_2 = 1/3 * 0.8 / task3_total_var\n",
    "print(f'Вероятность что попал 1 спортсмен: {task3_var_2 :.3%}')"
   ]
  },
  {
   "cell_type": "code",
   "execution_count": 41,
   "id": "543ed066",
   "metadata": {},
   "outputs": [
    {
     "name": "stdout",
     "output_type": "stream",
     "text": [
      "Вероятность что попал 1 спортсмен: 26.087%\n"
     ]
    }
   ],
   "source": [
    "task3_var_3 = 1/3 * 0.6 / task3_total_var\n",
    "print(f'Вероятность что попал 1 спортсмен: {task3_var_3 :.3%}')"
   ]
  },
  {
   "cell_type": "markdown",
   "id": "b1797385",
   "metadata": {},
   "source": [
    "4. В университет на факультеты A и B поступило равное количество студентов, а на факультет C студентов поступило столько же, сколько на A и B вместе. Вероятность того, что студент факультета A сдаст первую сессию, равна 0.8. Для студента факультета B эта вероятность равна 0.7, а для студента факультета C - 0.9. Студент сдал первую сессию. Какова вероятность, что он учится: a). на факультете A б). на факультете B в). на факультете C?"
   ]
  },
  {
   "cell_type": "code",
   "execution_count": 43,
   "id": "8e158db6",
   "metadata": {},
   "outputs": [
    {
     "data": {
      "text/plain": [
       "0.825"
      ]
     },
     "execution_count": 43,
     "metadata": {},
     "output_type": "execute_result"
    }
   ],
   "source": [
    "task4_total_var = 1/4 * 0.8 + 1/4 * 0.7 + 2/4 * 0.9\n",
    "task4_total_var"
   ]
  },
  {
   "cell_type": "code",
   "execution_count": 46,
   "id": "185706f9",
   "metadata": {},
   "outputs": [
    {
     "name": "stdout",
     "output_type": "stream",
     "text": [
      "Вероятность что студент с факультета А: 24.242%\n"
     ]
    }
   ],
   "source": [
    "task4_var_1 = 1/4 * 0.8 / task4_total_var\n",
    "print(f'Вероятность что студент с факультета А: {task4_var_1 :.3%}')"
   ]
  },
  {
   "cell_type": "code",
   "execution_count": 47,
   "id": "3bcdfef2",
   "metadata": {},
   "outputs": [
    {
     "name": "stdout",
     "output_type": "stream",
     "text": [
      "Вероятность что студент с факультета А: 21.212%\n"
     ]
    }
   ],
   "source": [
    "task4_var_2 = 1/4 * 0.7 / task4_total_var\n",
    "print(f'Вероятность что студент с факультета B: {task4_var_2 :.3%}')"
   ]
  },
  {
   "cell_type": "code",
   "execution_count": 49,
   "id": "07d0b4fe",
   "metadata": {},
   "outputs": [
    {
     "name": "stdout",
     "output_type": "stream",
     "text": [
      "Вероятность что студент с факультета C: 54.545%\n"
     ]
    }
   ],
   "source": [
    "task4_var_3 = 2/4 * 0.9 / task4_total_var\n",
    "print(f'Вероятность что студент с факультета C: {task4_var_3 :.3%}')"
   ]
  },
  {
   "cell_type": "markdown",
   "id": "b8088d5e",
   "metadata": {},
   "source": [
    "5. Устройство состоит из трех деталей. Для первой детали вероятность выйти из строя в первый месяц равна 0.1, для второй - 0.2, для третьей - 0.25. Какова вероятность того, что в первый месяц выйдут из строя: а). все детали б). только две детали в). хотя бы одна деталь г). от одной до двух деталей?"
   ]
  },
  {
   "cell_type": "code",
   "execution_count": 51,
   "id": "5546c5a0",
   "metadata": {},
   "outputs": [
    {
     "name": "stdout",
     "output_type": "stream",
     "text": [
      "Вероятность что сломаются 3 детали: 0.500%\n"
     ]
    }
   ],
   "source": [
    "task5_var_1 = 0.1*0.2*0.25\n",
    "print(f'Вероятность что сломаются 3 детали: {task5_var_1 :.3%}')"
   ]
  },
  {
   "cell_type": "code",
   "execution_count": 52,
   "id": "e8dfa41c",
   "metadata": {},
   "outputs": [
    {
     "name": "stdout",
     "output_type": "stream",
     "text": [
      "Вероятность что сломаются 2 детали: 8.000%\n"
     ]
    }
   ],
   "source": [
    "task5_var_2 = 0.1*0.2*0.75 + 0.1*0.8*0.25 + 0.9*0.2*0.25\n",
    "print(f'Вероятность что сломаются 2 детали: {task5_var_2 :.3%}')"
   ]
  },
  {
   "cell_type": "code",
   "execution_count": 53,
   "id": "143ce0da",
   "metadata": {},
   "outputs": [
    {
     "name": "stdout",
     "output_type": "stream",
     "text": [
      "Вероятность что сломается 1 деталь: 46.000%\n"
     ]
    }
   ],
   "source": [
    "task5_var_3 = 1 - 0.9*0.8*0.75\n",
    "print(f'Вероятность что сломается 1 деталь: {task5_var_3 :.3%}')"
   ]
  },
  {
   "cell_type": "code",
   "execution_count": 54,
   "id": "86c93266",
   "metadata": {},
   "outputs": [
    {
     "name": "stdout",
     "output_type": "stream",
     "text": [
      "Вероятность что сломается 1 или 2 детали: 54.000%\n"
     ]
    }
   ],
   "source": [
    "task5_var_4 = task5_var_2 + task5_var_3\n",
    "print(f'Вероятность что сломается 1 или 2 детали: {task5_var_4 :.3%}')"
   ]
  }
 ],
 "metadata": {
  "kernelspec": {
   "display_name": "Python 3 (ipykernel)",
   "language": "python",
   "name": "python3"
  },
  "language_info": {
   "codemirror_mode": {
    "name": "ipython",
    "version": 3
   },
   "file_extension": ".py",
   "mimetype": "text/x-python",
   "name": "python",
   "nbconvert_exporter": "python",
   "pygments_lexer": "ipython3",
   "version": "3.11.1"
  }
 },
 "nbformat": 4,
 "nbformat_minor": 5
}
